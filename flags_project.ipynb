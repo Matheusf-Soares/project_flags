{
 "cells": [
  {
   "cell_type": "markdown",
   "id": "aceba1d7-2bbc-408e-9ebf-e63baa05d145",
   "metadata": {},
   "source": [
    "# Projeto Flags"
   ]
  },
  {
   "cell_type": "markdown",
   "id": "faef898a-15b1-42b5-85e7-3389bbcfd0bc",
   "metadata": {
    "jp-MarkdownHeadingCollapsed": true
   },
   "source": [
    "## Primeira Parte"
   ]
  },
  {
   "cell_type": "markdown",
   "id": "32fb697c-eb3a-4703-a05a-2af73459b594",
   "metadata": {},
   "source": [
    "Importação da biblioteca pandas e do Matplotlib"
   ]
  },
  {
   "cell_type": "code",
   "execution_count": 1,
   "id": "71128062-7205-407c-aa4d-5066dce189cc",
   "metadata": {},
   "outputs": [],
   "source": [
    "import pandas as pd\n",
    "import matplotlib.pyplot as plt"
   ]
  },
  {
   "cell_type": "markdown",
   "id": "ac0fa51e-20f5-4bfc-a45c-c9c9968c4632",
   "metadata": {},
   "source": [
    "Importa a base de dados"
   ]
  },
  {
   "cell_type": "code",
   "execution_count": 2,
   "id": "2f11de42-cf70-449e-b069-8f5ced75adb5",
   "metadata": {},
   "outputs": [],
   "source": [
    "flags = pd.read_csv('flags.csv')"
   ]
  },
  {
   "cell_type": "markdown",
   "id": "285aefa3-d593-4620-9557-53e067cdcebb",
   "metadata": {},
   "source": [
    "Utiliza do método head para obter informações básicas"
   ]
  },
  {
   "cell_type": "code",
   "execution_count": 3,
   "id": "5dd52b73-43b6-4bc9-8baa-4925e07e832c",
   "metadata": {},
   "outputs": [
    {
     "name": "stdout",
     "output_type": "stream",
     "text": [
      "head()\n",
      "             name  landmass  zone  area  population  language  religion  bars  \\\n",
      "0     Afghanistan         5     1   648          16        10         2     0   \n",
      "1         Albania         3     1    29           3         6         6     0   \n",
      "2         Algeria         4     1  2388          20         8         2     2   \n",
      "3  American-Samoa         6     3     0           0         1         1     0   \n",
      "4         Andorra         3     1     0           0         6         0     3   \n",
      "\n",
      "   stripes  colours  ...  saltires  quarters  sunstars  crescent  triangle  \\\n",
      "0        3        5  ...         0         0         1         0         0   \n",
      "1        0        3  ...         0         0         1         0         0   \n",
      "2        0        3  ...         0         0         1         1         0   \n",
      "3        0        5  ...         0         0         0         0         1   \n",
      "4        0        3  ...         0         0         0         0         0   \n",
      "\n",
      "   icon  animate text  topleft  botright  \n",
      "0     1        0    0    black     green  \n",
      "1     0        1    0      red       red  \n",
      "2     0        0    0    green     white  \n",
      "3     1        1    0     blue       red  \n",
      "4     0        0    0     blue       red  \n",
      "\n",
      "[5 rows x 30 columns]\n",
      "------------------------------------------------------------------------------------------\n"
     ]
    }
   ],
   "source": [
    "print('head()')\n",
    "print(flags.head())\n",
    "print('-' * 90)"
   ]
  },
  {
   "cell_type": "markdown",
   "id": "c7bcc814-5991-4ad5-9aff-728c1e5cbc6f",
   "metadata": {},
   "source": [
    "Utiliza do método tail para obter informações básicas"
   ]
  },
  {
   "cell_type": "code",
   "execution_count": 4,
   "id": "50f2f34b-d327-4762-a945-5eb524ec5a27",
   "metadata": {},
   "outputs": [
    {
     "name": "stdout",
     "output_type": "stream",
     "text": [
      "tail()\n",
      "              name  landmass  zone  area  population  language  religion  \\\n",
      "189  Western-Samoa         6     3     3           0         1         1   \n",
      "190     Yugoslavia         3     1   256          22         6         6   \n",
      "191          Zaire         4     2   905          28        10         5   \n",
      "192         Zambia         4     2   753           6        10         5   \n",
      "193       Zimbabwe         4     2   391           8        10         5   \n",
      "\n",
      "     bars  stripes  colours  ...  saltires  quarters  sunstars  crescent  \\\n",
      "189     0        0        3  ...         0         1         5         0   \n",
      "190     0        3        4  ...         0         0         1         0   \n",
      "191     0        0        4  ...         0         0         0         0   \n",
      "192     3        0        4  ...         0         0         0         0   \n",
      "193     0        7        5  ...         0         0         1         0   \n",
      "\n",
      "     triangle  icon  animate text  topleft  botright  \n",
      "189         0     0        0    0     blue       red  \n",
      "190         0     0        0    0     blue       red  \n",
      "191         0     1        1    0    green     green  \n",
      "192         0     0        1    0    green     brown  \n",
      "193         1     1        1    0    green     green  \n",
      "\n",
      "[5 rows x 30 columns]\n",
      "------------------------------------------------------------------------------------------\n"
     ]
    }
   ],
   "source": [
    "print('tail()')\n",
    "print(flags.tail())\n",
    "print('-' * 90)"
   ]
  },
  {
   "cell_type": "markdown",
   "id": "cfd0f46f-d8d7-4984-a004-c1b4e750eccd",
   "metadata": {},
   "source": [
    "A célula seguinte expõe um erro/falha no DataFrame"
   ]
  },
  {
   "cell_type": "code",
   "execution_count": 5,
   "id": "1bde0899-fe09-4b79-b01e-e04b1d20231e",
   "metadata": {},
   "outputs": [
    {
     "data": {
      "text/html": [
       "<div>\n",
       "<style scoped>\n",
       "    .dataframe tbody tr th:only-of-type {\n",
       "        vertical-align: middle;\n",
       "    }\n",
       "\n",
       "    .dataframe tbody tr th {\n",
       "        vertical-align: top;\n",
       "    }\n",
       "\n",
       "    .dataframe thead th {\n",
       "        text-align: right;\n",
       "    }\n",
       "</style>\n",
       "<table border=\"1\" class=\"dataframe\">\n",
       "  <thead>\n",
       "    <tr style=\"text-align: right;\">\n",
       "      <th></th>\n",
       "      <th>blue</th>\n",
       "    </tr>\n",
       "  </thead>\n",
       "  <tbody>\n",
       "    <tr>\n",
       "      <th>26</th>\n",
       "      <td>1</td>\n",
       "    </tr>\n",
       "  </tbody>\n",
       "</table>\n",
       "</div>"
      ],
      "text/plain": [
       "    blue\n",
       "26     1"
      ]
     },
     "execution_count": 5,
     "metadata": {},
     "output_type": "execute_result"
    }
   ],
   "source": [
    "flags[flags['name'] == 'Bulgaria'].loc[:, ['blue']]"
   ]
  },
  {
   "cell_type": "markdown",
   "id": "98022eff-0c61-4d3f-9652-d336e2767df0",
   "metadata": {},
   "source": [
    "Separa as cores"
   ]
  },
  {
   "cell_type": "code",
   "execution_count": 6,
   "id": "033c31b5-2610-4021-8d12-2f2bd3ff8419",
   "metadata": {},
   "outputs": [],
   "source": [
    "verde = flags['green']\n",
    "amarelo = flags['gold']\n",
    "azul = flags['blue']\n",
    "branco = flags['white']\n",
    "soma = verde + amarelo + azul + branco"
   ]
  },
  {
   "cell_type": "markdown",
   "id": "f3115e7b-7cf8-43cd-ba56-5d22bc4c7d05",
   "metadata": {},
   "source": [
    "Gera um vetor booleano com True para quem possui todas as 4 cores"
   ]
  },
  {
   "cell_type": "code",
   "execution_count": 7,
   "id": "4b962a7c-949b-4503-8382-8b70829e56b6",
   "metadata": {},
   "outputs": [
    {
     "data": {
      "text/plain": [
       "0      False\n",
       "1      False\n",
       "2      False\n",
       "3      False\n",
       "4      False\n",
       "       ...  \n",
       "189    False\n",
       "190    False\n",
       "191    False\n",
       "192    False\n",
       "193    False\n",
       "Length: 194, dtype: bool"
      ]
     },
     "execution_count": 7,
     "metadata": {},
     "output_type": "execute_result"
    }
   ],
   "source": [
    "tem_todas = (soma == 4)\n",
    "tem_todas"
   ]
  },
  {
   "cell_type": "markdown",
   "id": "2978b547-e0bb-4397-8352-8356c5706be5",
   "metadata": {},
   "source": [
    "Imprime os nomes dos países com as quatro cores"
   ]
  },
  {
   "cell_type": "code",
   "execution_count": 8,
   "id": "e124396d-bf19-4901-9caf-bb1ec94f2678",
   "metadata": {},
   "outputs": [
    {
     "name": "stdout",
     "output_type": "stream",
     "text": [
      "Países com verde, amarelo, azul e branco\n",
      "17                       Belize\n",
      "19                      Bermuda\n",
      "23                       Brazil\n",
      "24         British-Virgin-Isles\n",
      "26                     Bulgaria\n",
      "33               Cayman-Islands\n",
      "34     Central-African-Republic\n",
      "48                     Dominica\n",
      "56           Falklands-Malvinas\n",
      "57                         Fiji\n",
      "71                         Guam\n",
      "78                    Hong-Kong\n",
      "116                  Montserrat\n",
      "135                     Parguay\n",
      "139                    Portugal\n",
      "142                     Romania\n",
      "151             Soloman-Islands\n",
      "158                   St-Helena\n",
      "161                  St-Vincent\n",
      "176         Turks-Cocos-Islands\n",
      "182             US-Virgin-Isles\n",
      "187                   Venezuela\n",
      "Name: name, dtype: object\n"
     ]
    }
   ],
   "source": [
    "print('Países com verde, amarelo, azul e branco')\n",
    "print(flags[tem_todas.values]['name'])"
   ]
  },
  {
   "cell_type": "markdown",
   "id": "ed8f08a1-5cf2-44c1-979b-e54c9af94f12",
   "metadata": {
    "jp-MarkdownHeadingCollapsed": true
   },
   "source": [
    "## Segunda Parte"
   ]
  },
  {
   "cell_type": "markdown",
   "id": "dc7b25d2-f54b-4e71-b576-7e0c7be402fb",
   "metadata": {},
   "source": [
    "### Obter as propriedades básicas de cada atributo"
   ]
  },
  {
   "cell_type": "markdown",
   "id": "5f901e1c-f145-4553-a435-4e7be5e25014",
   "metadata": {},
   "source": [
    "O seguinte programa itera cobre as colunas do DataFrame, olhando seu tipo, domínio e possíveis valores nulos e em seguida imprime esses dados."
   ]
  },
  {
   "cell_type": "code",
   "execution_count": 9,
   "id": "9cc59f25-a6d2-4134-9b34-3517ca1334f3",
   "metadata": {},
   "outputs": [
    {
     "name": "stdout",
     "output_type": "stream",
     "text": [
      "(1) atributo:  name \t dtype:  object \t nulos:  False \t domínio (primeior elementos):  ['Afghanistan' 'Albania' 'Algeria' 'American-Samoa' 'Andorra' 'Angola'\n",
      " 'Anguilla' 'Antigua-Barbuda']\n",
      "(2) atributo:  landmass \t dtype:  int64 \t nulos:  False \t domínio:  [5 3 4 6 1 2]\n",
      "(3) atributo:  zone \t dtype:  int64 \t nulos:  False \t domínio:  [1 3 2 4]\n",
      "(4) atributo:  area \t dtype:  int64 \t nulos:  0 \t min:  0 \t max:  22402 \t media:  700.05 \t d.p.:  2170.93\n",
      "(5) atributo:  population \t dtype:  int64 \t nulos:  0 \t min:  0 \t max:  1008 \t media:  23.27 \t d.p.:  91.93\n",
      "(6) atributo:  language \t dtype:  int64 \t nulos:  1 \t min:  1 \t max:  10 \t media:  5.34 \t d.p.:  3.5\n",
      "(7) atributo:  religion \t dtype:  int64 \t nulos:  0 \t min:  0 \t max:  7 \t media:  2.19 \t d.p.:  2.06\n",
      "(8) atributo:  bars \t dtype:  int64 \t nulos:  False \t domínio:  [0 2 3 1 5]\n",
      "(9) atributo:  stripes \t dtype:  int64 \t nulos:  0 \t min:  0 \t max:  14 \t media:  1.55 \t d.p.:  2.33\n",
      "(10) atributo:  colours \t dtype:  int64 \t nulos:  1 \t min:  1 \t max:  8 \t media:  3.46 \t d.p.:  1.3\n",
      "(11) atributo:  red \t dtype:  int64 \t nulos:  False \t domínio:  [1 0]\n",
      "(12) atributo:  green \t dtype:  int64 \t nulos:  False \t domínio:  [1 0]\n",
      "(13) atributo:  blue \t dtype:  int64 \t nulos:  False \t domínio:  [0 1]\n",
      "(14) atributo:  gold \t dtype:  int64 \t nulos:  False \t domínio:  [1 0]\n",
      "(15) atributo:  white \t dtype:  int64 \t nulos:  False \t domínio:  [1 0]\n",
      "(16) atributo:  black \t dtype:  int64 \t nulos:  False \t domínio:  [1 0]\n",
      "(17) atributo:  orange \t dtype:  int64 \t nulos:  False \t domínio:  [0 1]\n",
      "(18) atributo:  mainhue \t dtype:  object \t nulos:  False \t domínio (primeior elementos):  ['green' 'red' 'blue' 'gold' 'white' 'orange' 'black' 'brown']\n",
      "(19) atributo:  circles \t dtype:  int64 \t nulos:  False \t domínio:  [0 1 4 2]\n",
      "(20) atributo:  crosses \t dtype:  int64 \t nulos:  False \t domínio:  [0 1 2]\n",
      "(21) atributo:  saltires \t dtype:  int64 \t nulos:  False \t domínio:  [0 1]\n",
      "(22) atributo:  quarters \t dtype:  int64 \t nulos:  False \t domínio:  [0 1 4]\n",
      "(23) atributo:  sunstars \t dtype:  int64 \t nulos:  0 \t min:  0 \t max:  50 \t media:  1.39 \t d.p.:  4.4\n",
      "(24) atributo:  crescent \t dtype:  int64 \t nulos:  False \t domínio:  [0 1]\n",
      "(25) atributo:  triangle \t dtype:  int64 \t nulos:  False \t domínio:  [0 1]\n",
      "(26) atributo:  icon \t dtype:  int64 \t nulos:  False \t domínio:  [1 0]\n",
      "(27) atributo:  animate \t dtype:  int64 \t nulos:  False \t domínio:  [0 1]\n",
      "(28) atributo:  text \t dtype:  int64 \t nulos:  False \t domínio:  [0 1]\n",
      "(29) atributo:  topleft \t dtype:  object \t nulos:  False \t domínio:  ['black' 'red' 'green' 'blue' 'white' 'orange' 'gold']\n",
      "(30) atributo:  botright \t dtype:  object \t nulos:  False \t domínio (primeior elementos):  ['green' 'red' 'white' 'black' 'blue' 'gold' 'orange' 'brown']\n"
     ]
    }
   ],
   "source": [
    "i = 0\n",
    "for c in flags.columns:\n",
    "    i += 1\n",
    "    att = flags[c]\n",
    "    att_dtype = att.dtype\n",
    "    att_tam_dominio = att.unique().size\n",
    "\n",
    "    att_tem_nulo = any(att.isnull())\n",
    "    if (att_tam_dominio < 8):\n",
    "        print(f'({str(i)}) atributo: ', c, '\\t', \n",
    "              'dtype: ', att_dtype, '\\t',\n",
    "              'nulos: ', att_tem_nulo, '\\t',\n",
    "              'domínio: ', att.unique())\n",
    "    else:\n",
    "        if (att_dtype == 'object'):\n",
    "            print(f'({str(i)}) atributo: ', c, '\\t', \n",
    "              'dtype: ', att_dtype, '\\t',\n",
    "              'nulos: ', att_tem_nulo, '\\t',\n",
    "              'domínio (primeior elementos): ', att.unique()[:8])\n",
    "        else:\n",
    "            print(f'({str(i)}) atributo: ', c, '\\t', \n",
    "              'dtype: ', att_dtype, '\\t',\n",
    "              'nulos: ', att.min(), '\\t',\n",
    "              'min: ', att.min(), '\\t',\n",
    "              'max: ', att.max(), '\\t',\n",
    "              'media: ', round(att.mean(), 2), '\\t',\n",
    "              'd.p.: ', round(att.std(), 2))"
   ]
  },
  {
   "cell_type": "markdown",
   "id": "49e5901e-fed9-4c14-b104-4a2090e3bcb5",
   "metadata": {
    "jp-MarkdownHeadingCollapsed": true
   },
   "source": [
    "### Tabela de Frequências"
   ]
  },
  {
   "cell_type": "markdown",
   "id": "cdc16126-5200-45b7-80eb-f4d86b0cfb89",
   "metadata": {},
   "source": [
    "Gera uma tabela de frequências para cada uma das cores"
   ]
  },
  {
   "cell_type": "code",
   "execution_count": 10,
   "id": "8bb60c07-3e19-4a14-b658-34b1ecf7cc5f",
   "metadata": {},
   "outputs": [
    {
     "name": "stdout",
     "output_type": "stream",
     "text": [
      "     red  green  blue  gold  white  black  orange\n",
      "red                                              \n",
      "1    153     91    99    91    146     52      26\n",
      "0     41    103    95   103     48    142     168\n"
     ]
    }
   ],
   "source": [
    "df_cores = pd.DataFrame()\n",
    "for c in flags.columns:\n",
    "    if c in [ 'red', 'green', 'blue', 'gold', 'white', 'black', 'orange' ]:\n",
    "        df_cores[c] = flags[c].value_counts()\n",
    "\n",
    "print(df_cores)"
   ]
  },
  {
   "cell_type": "markdown",
   "id": "270dabba-7cc4-41c5-9d6d-c4d200f1d38e",
   "metadata": {},
   "source": [
    "### Gráficos de Barras Horizontais"
   ]
  },
  {
   "cell_type": "code",
   "execution_count": 11,
   "id": "44aaace2-37e2-4545-9e57-4688b24256dd",
   "metadata": {},
   "outputs": [
    {
     "data": {
      "image/png": "[encoded data removed]",
      "text/plain": [
       "<Figure size 800x2500 with 7 Axes>"
      ]
     },
     "metadata": {},
     "output_type": "display_data"
    }
   ],
   "source": [
    "lst_cores = [\n",
    "    'red',\n",
    "    'green',\n",
    "    'blue',\n",
    "    'gold',\n",
    "    'purple',\n",
    "    'black',\n",
    "    'orange',\n",
    "]\n",
    "\n",
    "df_cores.plot(kind='barh', # Para criar um gráfico de barras horizontais\n",
    "              subplots=True, # Para permitir que sejam criados vários gráficos\n",
    "              figsize=(8, 25), # Define a Altura e Largura do Gráfico\n",
    "              color=lst_cores, # Define as cores de cada Gráfico\n",
    "              ylabel='') \n",
    "\n",
    "plt.show()"
   ]
  },
  {
   "cell_type": "code",
   "execution_count": 12,
   "id": "f40631a9-371d-4794-b7da-88ea7a30e01f",
   "metadata": {},
   "outputs": [
    {
     "data": {
      "text/html": [
       "<div>\n",
       "<style scoped>\n",
       "    .dataframe tbody tr th:only-of-type {\n",
       "        vertical-align: middle;\n",
       "    }\n",
       "\n",
       "    .dataframe tbody tr th {\n",
       "        vertical-align: top;\n",
       "    }\n",
       "\n",
       "    .dataframe thead th {\n",
       "        text-align: right;\n",
       "    }\n",
       "</style>\n",
       "<table border=\"1\" class=\"dataframe\">\n",
       "  <thead>\n",
       "    <tr style=\"text-align: right;\">\n",
       "      <th></th>\n",
       "      <th>red</th>\n",
       "      <th>green</th>\n",
       "      <th>blue</th>\n",
       "      <th>gold</th>\n",
       "      <th>white</th>\n",
       "      <th>black</th>\n",
       "      <th>orange</th>\n",
       "    </tr>\n",
       "    <tr>\n",
       "      <th>red</th>\n",
       "      <th></th>\n",
       "      <th></th>\n",
       "      <th></th>\n",
       "      <th></th>\n",
       "      <th></th>\n",
       "      <th></th>\n",
       "      <th></th>\n",
       "    </tr>\n",
       "  </thead>\n",
       "  <tbody>\n",
       "    <tr>\n",
       "      <th>1</th>\n",
       "      <td>153</td>\n",
       "      <td>91</td>\n",
       "      <td>99</td>\n",
       "      <td>91</td>\n",
       "      <td>146</td>\n",
       "      <td>52</td>\n",
       "      <td>26</td>\n",
       "    </tr>\n",
       "    <tr>\n",
       "      <th>0</th>\n",
       "      <td>41</td>\n",
       "      <td>103</td>\n",
       "      <td>95</td>\n",
       "      <td>103</td>\n",
       "      <td>48</td>\n",
       "      <td>142</td>\n",
       "      <td>168</td>\n",
       "    </tr>\n",
       "  </tbody>\n",
       "</table>\n",
       "</div>"
      ],
      "text/plain": [
       "     red  green  blue  gold  white  black  orange\n",
       "red                                              \n",
       "1    153     91    99    91    146     52      26\n",
       "0     41    103    95   103     48    142     168"
      ]
     },
     "execution_count": 12,
     "metadata": {},
     "output_type": "execute_result"
    }
   ],
   "source": [
    "df_cores"
   ]
  },
  {
   "cell_type": "code",
   "execution_count": null,
   "id": "bc938d1c-1cd6-4cbb-9154-c0a3442ed500",
   "metadata": {},
   "outputs": [],
   "source": []
  }
 ],
 "metadata": {
  "kernelspec": {
   "display_name": "Python 3 (ipykernel)",
   "language": "python",
   "name": "python3"
  },
  "language_info": {
   "codemirror_mode": {
    "name": "ipython",
    "version": 3
   },
   "file_extension": ".py",
   "mimetype": "text/x-python",
   "name": "python",
   "nbconvert_exporter": "python",
   "pygments_lexer": "ipython3",
   "version": "3.11.7"
  },
  "widgets": {
   "application/vnd.jupyter.widget-state+json": {
    "state": {},
    "version_major": 2,
    "version_minor": 0
   }
  }
 },
 "nbformat": 4,
 "nbformat_minor": 5
}
